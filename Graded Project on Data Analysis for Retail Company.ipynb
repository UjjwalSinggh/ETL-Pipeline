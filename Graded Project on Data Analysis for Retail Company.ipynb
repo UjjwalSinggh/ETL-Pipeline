{
 "cells": [
  {
   "cell_type": "markdown",
   "id": "388e2295-c0a0-4d45-851d-80fff56ab88b",
   "metadata": {},
   "source": [
    "# Task 1: Sales Data Summary"
   ]
  },
  {
   "cell_type": "code",
   "execution_count": 1,
   "id": "f77d4ca4-105b-42e5-a2f7-fcd2886795b9",
   "metadata": {},
   "outputs": [
    {
     "name": "stdout",
     "output_type": "stream",
     "text": [
      "Sales Metrics Summary:\n",
      "Total units sold: 2150\n",
      "Difference between Category A and Category B sales: 250\n",
      "Ratio of Category A to Category B sales: 1.263157894736842\n"
     ]
    }
   ],
   "source": [
    "category_a = 1200\n",
    "category_b = 950\n",
    "\n",
    "# Calculating the total units sold\n",
    "total_units_sold = category_a + category_b\n",
    "\n",
    "# Calculating the difference between the two categories\n",
    "difference_in_sales = category_a - category_b\n",
    "\n",
    "# Calculating the ratio of units sold (Category A to Category B)\n",
    "if category_b != 0:\n",
    "    sales_ratio = category_a / category_b\n",
    "else:\n",
    "    sales_ratio = 'undefined'\n",
    "# Printing the results for the management team\n",
    "print(\"Sales Metrics Summary:\")\n",
    "print(f\"Total units sold: {total_units_sold}\")\n",
    "print(f\"Difference between Category A and Category B sales: {difference_in_sales}\")\n",
    "print(f\"Ratio of Category A to Category B sales: {sales_ratio}\")\n"
   ]
  },
  {
   "cell_type": "markdown",
   "id": "2ce8c7b3-471e-4be5-a487-075ea269a496",
   "metadata": {},
   "source": [
    "# Task 2: Customer Age Data"
   ]
  },
  {
   "cell_type": "code",
   "execution_count": 3,
   "id": "c7497b69-f701-4ac5-b7a1-76907ba22bce",
   "metadata": {},
   "outputs": [
    {
     "name": "stdout",
     "output_type": "stream",
     "text": [
      "Dear John Doe, at 30, you’re eligible for our premium loyalty program.\n"
     ]
    }
   ],
   "source": [
    "customer_name = \"John Doe\"\n",
    "customer_age = 30\n",
    "\n",
    "# Converting the age into a string and creating a personalized message\n",
    "marketing_message = f\"Dear {customer_name}, at {customer_age}, you’re eligible for our premium loyalty program.\"\n",
    "\n",
    "# Printing the personalized marketing message for use in email campaigns\n",
    "print(marketing_message)"
   ]
  },
  {
   "cell_type": "markdown",
   "id": "90064a9b-a1a7-4939-b746-90c13ca9506f",
   "metadata": {},
   "source": [
    "# Task 3: Product List Management"
   ]
  },
  {
   "cell_type": "code",
   "execution_count": 8,
   "id": "5d260e48-0286-4fb7-ac9c-cabfa66a5190",
   "metadata": {},
   "outputs": [
    {
     "name": "stdout",
     "output_type": "stream",
     "text": [
      "Updated Product List for Inventory Team:\n",
      "Highest Price: $150\n",
      "Lowest Price: $10\n",
      "Mid-Range Products (excluding highest and lowest): [29, 45, 99, 65, 34]\n",
      "Updated Product Prices: [29, 45, 10, 99, 65, 34, 150, 200]\n"
     ]
    }
   ],
   "source": [
    "# List of product prices\n",
    "product_prices = [29, 45, 10, 99, 65, 34, 150]\n",
    "\n",
    "highest_price = max(product_prices)\n",
    "lowest_price = min(product_prices)\n",
    "\n",
    "# Creating a new list with the mid-range products\n",
    "mid_range_prices = [price for price in product_prices if lowest_price < price < highest_price]\n",
    "\n",
    "# Adding a new premium product price to the list\n",
    "new_premium_price = 200\n",
    "product_prices.append(new_premium_price)\n",
    "\n",
    "# Printing the updated product list for the inventory team\n",
    "print(\"Updated Product List for Inventory Team:\")\n",
    "print(f\"Highest Price: ${highest_price}\")\n",
    "print(f\"Lowest Price: ${lowest_price}\")\n",
    "print(f\"Mid-Range Products (excluding highest and lowest): {mid_range_prices}\")\n",
    "print(f\"Updated Product Prices: {product_prices}\")\n"
   ]
  },
  {
   "cell_type": "code",
   "execution_count": null,
   "id": "53368c69-aabe-4f53-afed-55d92698a686",
   "metadata": {},
   "outputs": [],
   "source": []
  },
  {
   "cell_type": "markdown",
   "id": "e4ad666f-38da-4f00-ad0b-409355b43d29",
   "metadata": {},
   "source": [
    "# Task 4: Inventory Lookup"
   ]
  },
  {
   "cell_type": "code",
   "execution_count": 17,
   "id": "e1cb3636-66bc-4c65-a959-6865c350a79f",
   "metadata": {},
   "outputs": [
    {
     "name": "stdout",
     "output_type": "stream",
     "text": [
      "Product Name: Wireless Headphones\n",
      "SKU: WH12345\n"
     ]
    }
   ],
   "source": [
    "product_details = {\n",
    "    \"product_name\": \"Wireless Headphones\",\n",
    "    \"SKU\": \"WH12345\",\n",
    "    \"price\": 89.99,\n",
    "    \"category\": \"Electronics\"\n",
    "}\n",
    "\n",
    "# Function to print the product name and SKU when queried\n",
    "def get_product_info():\n",
    "    print(f\"Product Name: {product_details['product_name']}\")\n",
    "    print(f\"SKU: {product_details['SKU']}\")\n",
    "get_product_info()\n"
   ]
  },
  {
   "cell_type": "markdown",
   "id": "64f649af-f63d-4627-bd38-dc7d8ac16587",
   "metadata": {},
   "source": [
    "# Task 5: Stock Level Alert System"
   ]
  },
  {
   "cell_type": "code",
   "execution_count": 20,
   "id": "eb4512fc-7a35-4dde-b70d-ac619dcbce03",
   "metadata": {},
   "outputs": [
    {
     "name": "stdin",
     "output_type": "stream",
     "text": [
      "Enter the current stock level:  179\n"
     ]
    },
    {
     "name": "stdout",
     "output_type": "stream",
     "text": [
      "Stock is sufficient\n"
     ]
    }
   ],
   "source": [
    "def check_stock(stock_level, threshold):\n",
    "    if stock_level < threshold:\n",
    "        print(\"Reorder Now\")\n",
    "    else:\n",
    "        print(\"Stock is sufficient\")\n",
    "\n",
    "# Taking stock level input from the user\n",
    "stock_level = int(input(\"Enter the current stock level: \"))\n",
    "threshold = 50\n",
    "# Call the function to check stock level\n",
    "check_stock(stock_level, threshold)\n"
   ]
  },
  {
   "cell_type": "markdown",
   "id": "93bac741-a86a-4a1c-9b80-d27bca53fdec",
   "metadata": {},
   "source": [
    "# Task 6: Sales Report Formatting"
   ]
  },
  {
   "cell_type": "code",
   "execution_count": 22,
   "id": "11f61e6d-ce20-4215-98c4-eaba9e660ed1",
   "metadata": {},
   "outputs": [
    {
     "name": "stdout",
     "output_type": "stream",
     "text": [
      "Sales Data (Using For Loop):\n",
      "APPLE\n",
      "BANANA\n",
      "CHERRY\n",
      "DATE\n",
      "ELDERBERRY\n"
     ]
    }
   ],
   "source": [
    "# List of products sold\n",
    "products_sold = [\"apple\", \"banana\", \"cherry\", \"date\", \"elderberry\"]\n",
    "\n",
    "print(\"Sales Data (Using For Loop):\")\n",
    "for product in products_sold:\n",
    "    print(product.upper())\n"
   ]
  },
  {
   "cell_type": "markdown",
   "id": "ff1e11ce-6427-46d0-b53b-263b808de20f",
   "metadata": {},
   "source": [
    "# Task 7: Area Calculation For Store Layout"
   ]
  },
  {
   "cell_type": "code",
   "execution_count": null,
   "id": "4a160f99-dd78-47a5-8f21-28c9f9df2a0b",
   "metadata": {},
   "outputs": [],
   "source": [
    "# Function to calculate the area of a store section (or warehouse section)\n",
    "def calculate_area(length, width):\n",
    "    return length * width\n",
    "\n",
    "# Warehouse sections with their length and width\n",
    "warehouse_sections = [\n",
    "    {\"section_name\": \"Storage Room 1\", \"length\": 25, \"width\": 18},\n",
    "    {\"section_name\": \"Loading Dock\", \"length\": 40, \"width\": 12},\n",
    "    {\"section_name\": \"Aisle 1\", \"length\": 50, \"width\": 3},\n",
    "    {\"section_name\": \"Storage Room 2\", \"length\": 30, \"width\": 20},\n",
    "    {\"section_name\": \"Office Area\", \"length\": 15, \"width\": 10}\n",
    "]\n",
    "\n",
    "# Calculate and print the area for each section\n",
    "for section in warehouse_sections:\n",
    "    section_name = section[\"section_name\"]\n",
    "    length = section[\"length\"]\n",
    "    width = section[\"width\"]\n",
    "    area = calculate_area(length, width)\n",
    "    print(f\"The area of the {section_name} is {area} square meters.\")\n"
   ]
  },
  {
   "cell_type": "markdown",
   "id": "34bcf9e6-4f1a-4f79-a57d-612ecf0f1095",
   "metadata": {},
   "source": [
    "# Task 8: Customer Feedback Analysis"
   ]
  },
  {
   "cell_type": "code",
   "execution_count": null,
   "id": "a349ec84-dc78-4f00-817b-579677e7d822",
   "metadata": {},
   "outputs": [],
   "source": [
    "# Function to count the number of vowels in a feedback message\n",
    "def count_vowels(feedback):\n",
    "    vowels = \"aeiouAEIOU\"\n",
    "    count = 0\n",
    "    for char in feedback:\n",
    "        if char in vowels:\n",
    "            count += 1\n",
    "    return count\n",
    "\n",
    "# Function to reverse the feedback message\n",
    "def reverse_feedback(feedback):\n",
    "    return feedback[::-1]\n",
    "\n",
    "# Example customer feedback\n",
    "feedback_message = \"The service was exceptional, and the staff were very helpful.\"\n",
    "\n",
    "# Count the number of vowels in the feedback message\n",
    "vowel_count = count_vowels(feedback_message)\n",
    "\n",
    "# Reverse the feedback message\n",
    "reversed_message = reverse_feedback(feedback_message)\n",
    "\n",
    "# Output the results\n",
    "print(f\"Customer Feedback: {feedback_message}\")\n",
    "print(f\"Number of vowels in the feedback: {vowel_count}\")\n",
    "print(f\"Reversed feedback message: {reversed_message}\")\n"
   ]
  },
  {
   "cell_type": "markdown",
   "id": "da9ec684-1689-4ba7-96a0-c232492417ea",
   "metadata": {},
   "source": [
    "# Task 9: Price Filtering Tool"
   ]
  },
  {
   "cell_type": "code",
   "execution_count": null,
   "id": "74a86667-1ad6-4588-8256-2d4eeb6c4756",
   "metadata": {},
   "outputs": [],
   "source": [
    "# List of products with their names and prices\n",
    "products = [\n",
    "    {\"name\": \"Laptop\", \"price\": 950},\n",
    "    {\"name\": \"Smartphone\", \"price\": 500},\n",
    "    {\"name\": \"Headphones\", \"price\": 80},\n",
    "    {\"name\": \"Keyboard\", \"price\": 40},\n",
    "    {\"name\": \"Mouse\", \"price\": 25},\n",
    "    {\"name\": \"Monitor\", \"price\": 200}\n",
    "]\n",
    "\n",
    "# Define the price threshold for discount eligibility\n",
    "price_threshold = 100\n",
    "\n",
    "# Use list comprehension to filter products priced above the threshold for discount eligibility\n",
    "eligible_products = [product for product in products if product[\"price\"] < price_threshold]\n",
    "\n",
    "# Print the list of eligible products for the discount campaign\n",
    "print(\"Eligible Products for Discount Campaign:\")\n",
    "for product in eligible_products:\n",
    "    print(f\"{product['name']} - ${product['price']}\")\n"
   ]
  },
  {
   "cell_type": "markdown",
   "id": "e6e08f3a-b13e-47d6-9cf8-7b067666926d",
   "metadata": {},
   "source": [
    "# Task 10: Sales Log File Management"
   ]
  },
  {
   "cell_type": "code",
   "execution_count": null,
   "id": "212419e9-f5ff-42c3-8b0d-b9842319ffb6",
   "metadata": {},
   "outputs": [],
   "source": [
    "# Create and write to the sales log file\n",
    "with open('sales_log.txt', 'w') as file:\n",
    "    file.write(\"Daily Sales Summary:\\n\")\n",
    "    file.write(\"Total Sales: $1500.00\\n\")\n",
    "    file.write(\"Number of Products Sold: 120\\n\")\n",
    "\n",
    "# Read and print the content of the file to ensure data integrity\n",
    "with open('sales_log.txt', 'r') as file:\n",
    "    content = file.read()\n",
    "    print(\"Sales Log Content:\")\n",
    "    print(content)\n"
   ]
  },
  {
   "cell_type": "markdown",
   "id": "3f8ec121-3aa6-43b2-b2fd-719cdbc98d1b",
   "metadata": {},
   "source": [
    "# Task 11: Daily Sales Average"
   ]
  },
  {
   "cell_type": "code",
   "execution_count": null,
   "id": "00c58a1f-b605-44eb-ab3f-fcc1143aeb9b",
   "metadata": {},
   "outputs": [],
   "source": [
    "# List of sales figures for the last 7 days\n",
    "sales_figures = [1500.50, 2000.75, 1800.25, 2200.40, 2100.60, 2500.30, 2300.90]\n",
    "\n",
    "# Calculate the average sales for the week\n",
    "average_sales = sum(sales_figures) / len(sales_figures)\n",
    "\n",
    "# Print the average daily sales\n",
    "print(f\"The average daily sales for the past week is: ${average_sales:.2f}\")\n"
   ]
  },
  {
   "cell_type": "markdown",
   "id": "fb2eb9a2-0487-4f79-ad0d-3e044bac5941",
   "metadata": {},
   "source": [
    "# Task 12: Customer Segmentation"
   ]
  },
  {
   "cell_type": "code",
   "execution_count": null,
   "id": "1deb26ca-ff62-440c-9352-94137ea6ba51",
   "metadata": {},
   "outputs": [],
   "source": [
    "# List of customer spending amounts\n",
    "customer_spending = [50, 120, 250, 30, 500, 80, 200, 150, 400, 75]\n",
    "\n",
    "# Define spending thresholds\n",
    "low_threshold = 100\n",
    "medium_threshold = 300\n",
    "\n",
    "# Loop through the list and categorize each customer\n",
    "categorized_customers = []\n",
    "\n",
    "for spending in customer_spending:\n",
    "    if spending < low_threshold:\n",
    "        category = \"Low\"\n",
    "    elif low_threshold <= spending < medium_threshold:\n",
    "        category = \"Medium\"\n",
    "    else:\n",
    "        category = \"High\"\n",
    "    \n",
    "    categorized_customers.append((spending, category))\n",
    "\n",
    "# Print the categorized results\n",
    "print(\"Customer Spending Categories:\")\n",
    "for spending, category in categorized_customers:\n",
    "    print(f\"Spending: ${spending}, Category: {category}\")\n"
   ]
  },
  {
   "cell_type": "markdown",
   "id": "32754a15-da1f-4bef-8af6-e3cde5d17e02",
   "metadata": {},
   "source": [
    "# Task 13: Discount Calculation"
   ]
  },
  {
   "cell_type": "code",
   "execution_count": null,
   "id": "d22f9fb0-8d57-4acd-9e6d-91386298dd5d",
   "metadata": {},
   "outputs": [],
   "source": [
    "# Function to calculate the final price after discount\n",
    "def calculate_discounted_price(original_price, discount_percentage):\n",
    "    # Calculate the discount amount\n",
    "    discount_amount = original_price * (discount_percentage / 100)\n",
    "    # Calculate the final price after applying the discount\n",
    "    final_price = original_price - discount_amount\n",
    "    return final_price\n",
    "\n",
    "# List of products with their original prices and discount percentages\n",
    "products = [\n",
    "    {\"name\": \"Laptop\", \"original_price\": 1000, \"discount_percentage\": 10},\n",
    "    {\"name\": \"Smartphone\", \"original_price\": 500, \"discount_percentage\": 15},\n",
    "    {\"name\": \"Headphones\", \"original_price\": 100, \"discount_percentage\": 20},\n",
    "    {\"name\": \"Smartwatch\", \"original_price\": 250, \"discount_percentage\": 25},\n",
    "    {\"name\": \"Tablet\", \"original_price\": 300, \"discount_percentage\": 5}\n",
    "]\n",
    "\n",
    "# Loop through the products and calculate the final price after applying the discount\n",
    "print(\"Final Prices After Discount:\")\n",
    "for product in products:\n",
    "    original_price = product[\"original_price\"]\n",
    "    discount_percentage = product[\"discount_percentage\"]\n",
    "    final_price = calculate_discounted_price(original_price, discount_percentage)\n",
    "    print(f\"{product['name']} - Original Price: ${original_price}, Discount: {discount_percentage}%, Final Price: ${final_price:.2f}\")\n"
   ]
  },
  {
   "cell_type": "markdown",
   "id": "10ce7531-086f-4fc8-8658-c6f32b6a47b9",
   "metadata": {},
   "source": [
    "# Task 14: Customer Feedback Sentiment Analysis"
   ]
  },
  {
   "cell_type": "code",
   "execution_count": null,
   "id": "64bb38d4-9f4a-4f13-bcb4-a90b8b35bb49",
   "metadata": {},
   "outputs": [],
   "source": [
    "# Function to determine sentiment based on keywords\n",
    "def analyze_sentiment(feedback):\n",
    "    # Define lists of positive and negative words\n",
    "    positive_words = [\"good\", \"happy\", \"great\", \"excellent\", \"satisfied\"]\n",
    "    negative_words = [\"bad\", \"disappointed\", \"poor\", \"terrible\", \"hate\"]\n",
    "\n",
    "    # Convert feedback to lowercase to ensure case-insensitive matching\n",
    "    feedback = feedback.lower()\n",
    "\n",
    "    # Check for positive words\n",
    "    if any(word in feedback for word in positive_words):\n",
    "        return \"Positive\"\n",
    "    # Check for negative words\n",
    "    elif any(word in feedback for word in negative_words):\n",
    "        return \"Negative\"\n",
    "    else:\n",
    "        return \"Neutral\"\n",
    "\n",
    "# Test feedback messages\n",
    "feedbacks = [\n",
    "    \"The product is really good and I am happy with the purchase!\",\n",
    "    \"I am disappointed with the quality of the product, it was terrible.\",\n",
    "    \"The service was okay, nothing special.\",\n",
    "    \"Excellent experience, would definitely recommend!\",\n",
    "    \"The delivery was bad, and I am not satisfied.\"\n",
    "]\n",
    "\n",
    "# Analyze and print the sentiment for each feedback\n",
    "for feedback in feedbacks:\n",
    "    sentiment = analyze_sentiment(feedback)\n",
    "    print(f\"Feedback: {feedback}\")\n",
    "    print(f\"Sentiment: {sentiment}\\n\")"
   ]
  },
  {
   "cell_type": "markdown",
   "id": "0646ea21-5c8a-478f-8b91-b01193a9072c",
   "metadata": {},
   "source": [
    "# Task 15: Employee Salary Increment Calculator"
   ]
  },
  {
   "cell_type": "code",
   "execution_count": null,
   "id": "476ec701-baf6-416a-b165-81280e57722e",
   "metadata": {},
   "outputs": [],
   "source": [
    "# Dictionary storing employee names and their performance ratings\n",
    "employee_data = {\n",
    "    \"Alice\": {\"salary\": 50000, \"rating\": 4.8},\n",
    "    \"Bob\": {\"salary\": 45000, \"rating\": 3.5},\n",
    "    \"Charlie\": {\"salary\": 60000, \"rating\": 4.2},\n",
    "    \"David\": {\"salary\": 55000, \"rating\": 2.9},\n",
    "    \"Eve\": {\"salary\": 70000, \"rating\": 5.0}\n",
    "}\n",
    "\n",
    "# Function to calculate the increment and update the salary\n",
    "def apply_salary_increment(employee_name, rating, current_salary):\n",
    "    # Define increment percentages based on performance rating\n",
    "    if rating >= 4.5:\n",
    "        increment_percentage = 10  # 10% increment for ratings 4.5 and above\n",
    "    elif rating >= 3.0:\n",
    "        increment_percentage = 5  # 5% increment for ratings between 3.0 and 4.4\n",
    "    else:\n",
    "        increment_percentage = 2  # 2% increment for ratings below 3.0\n",
    "\n",
    "    # Calculate the increment amount\n",
    "    increment_amount = (increment_percentage / 100) * current_salary\n",
    "    # Calculate the new salary\n",
    "    new_salary = current_salary + increment_amount\n",
    "    return new_salary\n",
    "\n",
    "# Print the updated salary for each employee\n",
    "print(\"Updated Salaries after Performance Review:\")\n",
    "for employee, data in employee_data.items():\n",
    "    current_salary = data[\"salary\"]\n",
    "    rating = data[\"rating\"]\n",
    "    new_salary = apply_salary_increment(employee, rating, current_salary)\n",
    "    print(f\"{employee}: Current Salary: ${current_salary}, Rating: {rating}, New Salary: ${new_salary:.2f}\")\n"
   ]
  },
  {
   "cell_type": "markdown",
   "id": "25e8989b-b36d-4b19-8be9-c317ad524b7a",
   "metadata": {},
   "source": [
    "# Task 16: Monthly Sales Report Generator"
   ]
  },
  {
   "cell_type": "code",
   "execution_count": null,
   "id": "e0790b5f-7ad2-4cb4-8079-1a3ab0f91864",
   "metadata": {},
   "outputs": [],
   "source": [
    "# List of daily sales figures for a month (30 days)\n",
    "daily_sales = [150, 200, 250, 220, 180, 210, 240, 300, 250, 190, 230, 210, 260, 280, 300, 290, 310, 320, 280, 260, 230, 220, 210, 240, 260, 250, 270, 280, 290, 310]\n",
    "\n",
    "# Calculate the total sales for the month\n",
    "total_sales = sum(daily_sales)\n",
    "\n",
    "# Calculate the average sales for the month\n",
    "average_sales = total_sales / len(daily_sales)\n",
    "\n",
    "# Create and write the sales report to a text file\n",
    "with open('monthly_report.txt', 'w') as file:\n",
    "    file.write(\"Monthly Sales Report\\n\")\n",
    "    file.write(\"=====================\\n\")\n",
    "    file.write(f\"Total Sales: ${total_sales}\\n\")\n",
    "    file.write(f\"Average Daily Sales: ${ave\n"
   ]
  },
  {
   "cell_type": "markdown",
   "id": "c0ee5f18-23ee-46df-82a7-1c9877c6bc75",
   "metadata": {},
   "source": [
    "# Task 17: Stock Replenishment Planning"
   ]
  },
  {
   "cell_type": "code",
   "execution_count": null,
   "id": "1eb314c9-58a8-48ec-a399-68665333dab6",
   "metadata": {},
   "outputs": [],
   "source": [
    "# List of products with their current stock levels\n",
    "products = [\n",
    "    {\"name\": \"Laptop\", \"stock\": 10},\n",
    "    {\"name\": \"Smartphone\", \"stock\": 5},\n",
    "    {\"name\": \"Headphones\", \"stock\": 30},\n",
    "    {\"name\": \"Smartwatch\", \"stock\": 2},\n",
    "    {\"name\": \"Tablet\", \"stock\": 8}\n",
    "]\n",
    "\n",
    "# Predefined threshold for minimum stock level\n",
    "threshold = 10\n",
    "\n",
    "# Function to check which products need replenishment\n",
    "def check_replenishment(products, threshold):\n",
    "    products_to_reorder = []\n",
    "\n",
    "    for product in products:\n",
    "        if product[\"stock\"] < threshold:\n",
    "            products_to_reorder.append(product[\"name\"])\n",
    "\n",
    "    return products_to_reorder\n",
    "\n",
    "# Get the list of products that need to be reordered\n",
    "products_to_reorder = check_replenishment(products, threshold)\n",
    "\n",
    "# Print the products that need replenishment\n",
    "if products_to_reorder:\n",
    "    print(\"Products that need replenishment:\")\n",
    "    for product in products_to_reorder:\n",
    "        print(product)\n",
    "else:\n",
    "    print(\"All products have sufficient stock.\")\n"
   ]
  },
  {
   "cell_type": "markdown",
   "id": "b5725a9a-5516-413c-85c9-a067beea28d9",
   "metadata": {},
   "source": [
    "# Task 18: Data Cleaning Utility"
   ]
  },
  {
   "cell_type": "code",
   "execution_count": null,
   "id": "c95f6d10-c605-458a-a25b-4a4f89c6becf",
   "metadata": {},
   "outputs": [],
   "source": [
    "# List of customer names with extra spaces and inconsistent capitalization\n",
    "customer_names = [\n",
    "    \"  john doe  \",\n",
    "    \"  jANe   SMITH  \",\n",
    "    \"ALICE   Johnson  \",\n",
    "    \"BOB  MARLEY  \",\n",
    "    \"   saRAH connor  \"\n",
    "]\n",
    "\n",
    "# Function to clean customer names\n",
    "def clean_customer_names(names):\n",
    "    cleaned_names = []\n",
    "    \n",
    "    for name in names:\n",
    "        # Strip leading and trailing spaces, then capitalize each word properly\n",
    "        cleaned_name = name.strip().title()\n",
    "        cleaned_names.append(cleaned_name)\n",
    "    \n",
    "    return cleaned_names\n",
    "\n",
    "# Clean the customer names\n",
    "cleaned_names = clean_customer_names(customer_names)\n",
    "\n",
    "# Print the cleaned names for database entry\n",
    "print(\"Cleaned Customer Names:\")\n",
    "for name in cleaned_names:\n",
    "    print(name)\n"
   ]
  },
  {
   "cell_type": "markdown",
   "id": "378158a0-34a8-4eac-8602-19be35a53fbb",
   "metadata": {},
   "source": [
    "# Task 19: Simple Sales Forecasting"
   ]
  },
  {
   "cell_type": "code",
   "execution_count": null,
   "id": "f15de415-ebda-4f10-bda1-f5a740f72596",
   "metadata": {},
   "outputs": [],
   "source": [
    "# List of sales for the last 3 months\n",
    "sales_last_3_months = [22000, 24000, 23000]  # Example sales figures for the last 3 months\n",
    "\n",
    "# Function to predict next month's sales\n",
    "def forecast_sales(sales):\n",
    "    # Calculate the average sales of the last 3 months\n",
    "    average_sales = sum(sales) / len(sales)\n",
    "    return average_sales\n",
    "\n",
    "# Forecast sales for the next month\n",
    "predicted_sales = forecast_sales(sales_last_3_months)\n",
    "\n",
    "# Print the forecasted sales for budget planning\n",
    "print(f\"Forecasted Sales for Next Month: ${predicted_sales:.2f}\")"
   ]
  },
  {
   "cell_type": "markdown",
   "id": "e54ab597-638d-413b-b25d-bc84fd02e6ea",
   "metadata": {},
   "source": [
    "# Task 20: Customer Loyalty Points Calculator"
   ]
  },
  {
   "cell_type": "code",
   "execution_count": null,
   "id": "ef2ce4e4-5087-412b-bba0-f85f47c9ceb2",
   "metadata": {},
   "outputs": [],
   "source": [
    "# List of customers with their total purchase amount\n",
    "customers = [\n",
    "    {\"name\": \"John Doe\", \"purchase_amount\": 75},\n",
    "    {\"name\": \"Jane Smith\", \"purchase_amount\": 150},\n",
    "    {\"name\": \"Alice Johnson\", \"purchase_amount\": 600},\n",
    "    {\"name\": \"Bob Marley\", \"purchase_amount\": 450},\n",
    "    {\"name\": \"Sarah Connor\", \"purchase_amount\": 800}\n",
    "]\n",
    "\n",
    "# Function to calculate loyalty points based on the purchase amount\n",
    "def calculate_loyalty_points(purchase_amount):\n",
    "    # Define the tiered system for loyalty points\n",
    "    if purchase_amount < 100:\n",
    "        points = purchase_amount  # 1 point per dollar for purchases less than $100\n",
    "    elif 100 <= purchase_amount <= 500:\n",
    "        points = purchase_amount * 1.5  # 1.5 points per dollar for purchases between $100 and $500\n",
    "    else:\n",
    "        points = purchase_amount * 2  # 2 points per dollar for purchases above $500\n",
    "    \n",
    "    return points\n",
    "\n",
    "# Calculate and print loyalty points for each customer\n",
    "print(\"Customer Loyalty Points:\")\n",
    "for customer in customers:\n",
    "    name = customer[\"name\"]\n",
    "    purchase_amount = customer[\"purchase_amount\"]\n",
    "    loyalty_points = calculate_loyalty_points(purchase_amount)\n",
    "    print(f\"{name}: ${purchase_amount} spent -> {loyalty_points:.2f} loyalty points\")\n"
   ]
  }
 ],
 "metadata": {
  "kernelspec": {
   "display_name": "Python 3 (ipykernel)",
   "language": "python",
   "name": "python3"
  },
  "language_info": {
   "codemirror_mode": {
    "name": "ipython",
    "version": 3
   },
   "file_extension": ".py",
   "mimetype": "text/x-python",
   "name": "python",
   "nbconvert_exporter": "python",
   "pygments_lexer": "ipython3",
   "version": "3.12.4"
  }
 },
 "nbformat": 4,
 "nbformat_minor": 5
}
